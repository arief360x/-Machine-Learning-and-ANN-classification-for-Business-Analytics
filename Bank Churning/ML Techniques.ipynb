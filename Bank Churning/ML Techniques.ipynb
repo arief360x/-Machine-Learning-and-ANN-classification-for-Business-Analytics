{
 "cells": [
  {
   "cell_type": "markdown",
   "id": "7abb5aac",
   "metadata": {},
   "source": [
    "# Importing Libraries"
   ]
  },
  {
   "cell_type": "code",
   "execution_count": 1,
   "id": "b36a5b8a",
   "metadata": {},
   "outputs": [],
   "source": [
    "import numpy as np\n",
    "import pandas as pd"
   ]
  },
  {
   "cell_type": "markdown",
   "id": "f895ddff",
   "metadata": {},
   "source": [
    "# Importing Dataset"
   ]
  },
  {
   "cell_type": "code",
   "execution_count": 2,
   "id": "0c9d9a7c",
   "metadata": {},
   "outputs": [],
   "source": [
    "df = pd.read_csv('churn.csv')"
   ]
  },
  {
   "cell_type": "markdown",
   "id": "37b705b2",
   "metadata": {},
   "source": [
    "# Data Cleansing"
   ]
  },
  {
   "cell_type": "code",
   "execution_count": 3,
   "id": "0eed8164",
   "metadata": {},
   "outputs": [],
   "source": [
    "df.drop(\"CustomerId\", axis=1, inplace=True)\n",
    "df.drop(\"Surname\", axis=1, inplace=True)\n",
    "df.drop(\"HasCrCard\", axis=1, inplace=True)\n",
    "df.drop(\"RowNumber\", axis=1, inplace = True)\n",
    "# Take all Row, Take all column until -1\n",
    "X = df.iloc[:,:-1].values\n",
    "# Take all Row, Take only -1 column\n",
    "y = df.iloc[:,-1].values"
   ]
  },
  {
   "cell_type": "code",
   "execution_count": 4,
   "id": "4740364c",
   "metadata": {},
   "outputs": [
    {
     "name": "stdout",
     "output_type": "stream",
     "text": [
      "[[619 'France' 'Female' ... 1 1 101348.88]\n",
      " [608 'Spain' 'Female' ... 1 1 112542.58]\n",
      " [502 'France' 'Female' ... 3 0 113931.57]\n",
      " ...\n",
      " [709 'France' 'Female' ... 1 1 42085.58]\n",
      " [772 'Germany' 'Male' ... 2 0 92888.52]\n",
      " [792 'France' 'Female' ... 1 0 38190.78]]\n"
     ]
    }
   ],
   "source": [
    "print(X)"
   ]
  },
  {
   "cell_type": "code",
   "execution_count": 5,
   "id": "08aa945c",
   "metadata": {},
   "outputs": [
    {
     "name": "stdout",
     "output_type": "stream",
     "text": [
      "[1 0 1 ... 1 1 0]\n"
     ]
    }
   ],
   "source": [
    "print(y)"
   ]
  },
  {
   "cell_type": "markdown",
   "id": "1b5ebf8a",
   "metadata": {},
   "source": [
    "# Encoding Gender and One Hot Encoder for Country"
   ]
  },
  {
   "cell_type": "code",
   "execution_count": 6,
   "id": "953fe94c",
   "metadata": {},
   "outputs": [],
   "source": [
    "from sklearn.preprocessing import LabelEncoder\n",
    "from sklearn.preprocessing import OneHotEncoder\n",
    "from sklearn.compose import ColumnTransformer"
   ]
  },
  {
   "cell_type": "code",
   "execution_count": 7,
   "id": "bb85c5ab",
   "metadata": {},
   "outputs": [],
   "source": [
    "le = LabelEncoder()\n",
    "X[:, 2] = le.fit_transform(X[:, 2])"
   ]
  },
  {
   "cell_type": "code",
   "execution_count": 8,
   "id": "43809cd0",
   "metadata": {},
   "outputs": [],
   "source": [
    "ct = ColumnTransformer(transformers=[('encoder', OneHotEncoder(), [1])], remainder='passthrough')\n",
    "X = np.array(ct.fit_transform(X))"
   ]
  },
  {
   "cell_type": "markdown",
   "id": "8613babd",
   "metadata": {},
   "source": [
    "# Splitting Dataset"
   ]
  },
  {
   "cell_type": "code",
   "execution_count": 9,
   "id": "9b2e5f21",
   "metadata": {},
   "outputs": [],
   "source": [
    "from sklearn.model_selection import train_test_split\n",
    "X_train, X_test, y_train, y_test = train_test_split(X,y,test_size = 0.2, random_state = 0)"
   ]
  },
  {
   "cell_type": "markdown",
   "id": "bd300265",
   "metadata": {},
   "source": [
    "# Feature Scalling"
   ]
  },
  {
   "cell_type": "code",
   "execution_count": 10,
   "id": "42845540",
   "metadata": {},
   "outputs": [],
   "source": [
    "from sklearn.preprocessing import StandardScaler\n",
    "sc = StandardScaler()\n",
    "X_train = sc.fit_transform(X_train)\n",
    "X_test = sc.transform(X_test)"
   ]
  },
  {
   "cell_type": "markdown",
   "id": "e7837d92",
   "metadata": {},
   "source": [
    "# Logistic Regression"
   ]
  },
  {
   "cell_type": "code",
   "execution_count": 11,
   "id": "b9cf72e1",
   "metadata": {},
   "outputs": [],
   "source": [
    "from sklearn.metrics import confusion_matrix, accuracy_score"
   ]
  },
  {
   "cell_type": "code",
   "execution_count": 12,
   "id": "91b64c75",
   "metadata": {},
   "outputs": [
    {
     "name": "stdout",
     "output_type": "stream",
     "text": [
      "[[1525   70]\n",
      " [ 309   96]]\n",
      "0.8105\n"
     ]
    }
   ],
   "source": [
    "from sklearn.linear_model import LogisticRegression\n",
    "clr = LogisticRegression(random_state = 0)\n",
    "clr.fit(X_train, y_train)\n",
    "y_lr_pred = clr.predict(X_test)\n",
    "\n",
    "cm = confusion_matrix(y_test, y_lr_pred)\n",
    "print(cm)\n",
    "accuracy = accuracy_score(y_test, y_lr_pred)\n",
    "print(accuracy)"
   ]
  },
  {
   "cell_type": "markdown",
   "id": "07cec5b6",
   "metadata": {},
   "source": [
    "# KNN"
   ]
  },
  {
   "cell_type": "code",
   "execution_count": 13,
   "id": "48570821",
   "metadata": {},
   "outputs": [
    {
     "name": "stdout",
     "output_type": "stream",
     "text": [
      "[[1496   99]\n",
      " [ 223  182]]\n",
      "0.839\n"
     ]
    }
   ],
   "source": [
    "from sklearn.neighbors import KNeighborsClassifier\n",
    "clknn = KNeighborsClassifier(n_neighbors = 5, metric='minkowski', p = 2)\n",
    "clknn.fit(X_train, y_train)\n",
    "y_clknn_pred = clknn.predict(X_test)\n",
    "\n",
    "cm_knn = confusion_matrix(y_test, y_clknn_pred)\n",
    "print(cm_knn)\n",
    "accuracy_knn = accuracy_score(y_test, y_clknn_pred)\n",
    "print(accuracy_knn)"
   ]
  },
  {
   "cell_type": "markdown",
   "id": "73f2411d",
   "metadata": {},
   "source": [
    "# SVM"
   ]
  },
  {
   "cell_type": "code",
   "execution_count": 14,
   "id": "e5931429",
   "metadata": {},
   "outputs": [
    {
     "name": "stdout",
     "output_type": "stream",
     "text": [
      "[[1300  295]\n",
      " [ 313   92]]\n",
      "0.696\n"
     ]
    }
   ],
   "source": [
    "from sklearn.svm import SVC\n",
    "clf_svm = SVC(kernel = 'sigmoid', random_state = 0)\n",
    "clf_svm.fit(X_train, y_train)\n",
    "y_svm_pred = clf_svm.predict(X_test)\n",
    "\n",
    "cm_svm = confusion_matrix(y_test, y_svm_pred)\n",
    "print(cm_svm)\n",
    "accuracy_svm = accuracy_score(y_test, y_svm_pred)\n",
    "print(accuracy_svm)"
   ]
  },
  {
   "cell_type": "markdown",
   "id": "70e92f9a",
   "metadata": {},
   "source": [
    "# Kernel SVM"
   ]
  },
  {
   "cell_type": "code",
   "execution_count": 15,
   "id": "48aeb674",
   "metadata": {},
   "outputs": [
    {
     "name": "stdout",
     "output_type": "stream",
     "text": [
      "[[1546   49]\n",
      " [ 219  186]]\n",
      "0.866\n"
     ]
    }
   ],
   "source": [
    "from sklearn.svm import SVC\n",
    "clf_ksvm = SVC(kernel = 'rbf', random_state = 0)\n",
    "clf_ksvm.fit(X_train, y_train)\n",
    "y_ksvm_pred = clf_ksvm.predict(X_test)\n",
    "\n",
    "cm_ksvm = confusion_matrix(y_test, y_ksvm_pred)\n",
    "print(cm_ksvm)\n",
    "accuracy_ksvm = accuracy_score(y_test, y_ksvm_pred)\n",
    "print(accuracy_ksvm)"
   ]
  },
  {
   "cell_type": "markdown",
   "id": "51c1c058",
   "metadata": {},
   "source": [
    "# Naive Bayess"
   ]
  },
  {
   "cell_type": "code",
   "execution_count": 16,
   "id": "9abcd451",
   "metadata": {},
   "outputs": [
    {
     "name": "stdout",
     "output_type": "stream",
     "text": [
      "[[1464  131]\n",
      " [ 238  167]]\n",
      "0.8155\n"
     ]
    }
   ],
   "source": [
    "from sklearn.naive_bayes import GaussianNB\n",
    "clf_gauss = GaussianNB()\n",
    "clf_gauss.fit(X_train, y_train)\n",
    "y_gauss_pred = clf_gauss.predict(X_test)\n",
    "\n",
    "cm_gauss = confusion_matrix(y_test, y_gauss_pred)\n",
    "print(cm_gauss)\n",
    "accuracy_gauss = accuracy_score(y_test, y_gauss_pred)\n",
    "print(accuracy_gauss)"
   ]
  },
  {
   "cell_type": "markdown",
   "id": "d9d4c696",
   "metadata": {},
   "source": [
    "# Decision Tree"
   ]
  },
  {
   "cell_type": "code",
   "execution_count": 17,
   "id": "57a371ef",
   "metadata": {},
   "outputs": [
    {
     "name": "stdout",
     "output_type": "stream",
     "text": [
      "[[1376  219]\n",
      " [ 184  221]]\n",
      "0.7985\n"
     ]
    }
   ],
   "source": [
    "from sklearn.tree import DecisionTreeClassifier\n",
    "clf_tree = DecisionTreeClassifier(criterion = 'entropy')\n",
    "clf_tree.fit(X_train, y_train)\n",
    "y_tree_pred = clf_tree.predict(X_test)\n",
    "\n",
    "cm_tree = confusion_matrix(y_test, y_tree_pred)\n",
    "print(cm_tree)\n",
    "accuracy_tree = accuracy_score(y_test, y_tree_pred)\n",
    "print(accuracy_tree)"
   ]
  },
  {
   "cell_type": "markdown",
   "id": "5baa4704",
   "metadata": {},
   "source": [
    "# Random Forest (Ensamble bagged trees)"
   ]
  },
  {
   "cell_type": "code",
   "execution_count": 18,
   "id": "cb3f1e3b",
   "metadata": {},
   "outputs": [
    {
     "name": "stdout",
     "output_type": "stream",
     "text": [
      "[[1516   79]\n",
      " [ 199  206]]\n",
      "0.861\n"
     ]
    }
   ],
   "source": [
    "from sklearn.ensemble import RandomForestClassifier\n",
    "clf_forest = RandomForestClassifier(n_estimators = 20, criterion = 'entropy')\n",
    "clf_forest.fit(X_train, y_train)\n",
    "y_forest_pred = clf_forest.predict(X_test)\n",
    "\n",
    "cm_forest = confusion_matrix(y_test, y_forest_pred)\n",
    "print(cm_forest)\n",
    "accuracy_forest = accuracy_score(y_test, y_forest_pred)\n",
    "print(accuracy_forest)"
   ]
  },
  {
   "cell_type": "code",
   "execution_count": 20,
   "id": "267ba182",
   "metadata": {},
   "outputs": [
    {
     "name": "stdout",
     "output_type": "stream",
     "text": [
      "StandardScaler()\n"
     ]
    }
   ],
   "source": [
    "print(sc)"
   ]
  }
 ],
 "metadata": {
  "kernelspec": {
   "display_name": "Python 3 (ipykernel)",
   "language": "python",
   "name": "python3"
  },
  "language_info": {
   "codemirror_mode": {
    "name": "ipython",
    "version": 3
   },
   "file_extension": ".py",
   "mimetype": "text/x-python",
   "name": "python",
   "nbconvert_exporter": "python",
   "pygments_lexer": "ipython3",
   "version": "3.8.5"
  }
 },
 "nbformat": 4,
 "nbformat_minor": 5
}
