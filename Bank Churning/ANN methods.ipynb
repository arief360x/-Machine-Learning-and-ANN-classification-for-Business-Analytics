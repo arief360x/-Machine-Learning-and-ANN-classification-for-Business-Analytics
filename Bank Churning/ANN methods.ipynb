{
 "cells": [
  {
   "cell_type": "markdown",
   "id": "69800047",
   "metadata": {},
   "source": [
    "# Importing Libraries"
   ]
  },
  {
   "cell_type": "code",
   "execution_count": 1,
   "id": "567e1c41",
   "metadata": {},
   "outputs": [],
   "source": [
    "import numpy as np\n",
    "import pandas as pd\n",
    "import matplotlib.pyplot as plt\n",
    "import seaborn as sns\n",
    "from keras.callbacks import EarlyStopping"
   ]
  },
  {
   "cell_type": "markdown",
   "id": "af64f745",
   "metadata": {},
   "source": [
    "# Importing Dataset"
   ]
  },
  {
   "cell_type": "code",
   "execution_count": 2,
   "id": "5a56ff77",
   "metadata": {},
   "outputs": [],
   "source": [
    "df = pd.read_csv('churn.csv')"
   ]
  },
  {
   "cell_type": "code",
   "execution_count": 3,
   "id": "87c5ca97",
   "metadata": {},
   "outputs": [
    {
     "data": {
      "text/html": [
       "<div>\n",
       "<style scoped>\n",
       "    .dataframe tbody tr th:only-of-type {\n",
       "        vertical-align: middle;\n",
       "    }\n",
       "\n",
       "    .dataframe tbody tr th {\n",
       "        vertical-align: top;\n",
       "    }\n",
       "\n",
       "    .dataframe thead th {\n",
       "        text-align: right;\n",
       "    }\n",
       "</style>\n",
       "<table border=\"1\" class=\"dataframe\">\n",
       "  <thead>\n",
       "    <tr style=\"text-align: right;\">\n",
       "      <th></th>\n",
       "      <th>RowNumber</th>\n",
       "      <th>CustomerId</th>\n",
       "      <th>Surname</th>\n",
       "      <th>CreditScore</th>\n",
       "      <th>Geography</th>\n",
       "      <th>Gender</th>\n",
       "      <th>Age</th>\n",
       "      <th>Tenure</th>\n",
       "      <th>Balance</th>\n",
       "      <th>NumOfProducts</th>\n",
       "      <th>HasCrCard</th>\n",
       "      <th>IsActiveMember</th>\n",
       "      <th>EstimatedSalary</th>\n",
       "      <th>Exited</th>\n",
       "    </tr>\n",
       "  </thead>\n",
       "  <tbody>\n",
       "    <tr>\n",
       "      <th>0</th>\n",
       "      <td>1</td>\n",
       "      <td>15634602</td>\n",
       "      <td>Hargrave</td>\n",
       "      <td>619</td>\n",
       "      <td>France</td>\n",
       "      <td>Female</td>\n",
       "      <td>42</td>\n",
       "      <td>2</td>\n",
       "      <td>0.00</td>\n",
       "      <td>1</td>\n",
       "      <td>1</td>\n",
       "      <td>1</td>\n",
       "      <td>101348.88</td>\n",
       "      <td>1</td>\n",
       "    </tr>\n",
       "    <tr>\n",
       "      <th>1</th>\n",
       "      <td>2</td>\n",
       "      <td>15647311</td>\n",
       "      <td>Hill</td>\n",
       "      <td>608</td>\n",
       "      <td>Spain</td>\n",
       "      <td>Female</td>\n",
       "      <td>41</td>\n",
       "      <td>1</td>\n",
       "      <td>83807.86</td>\n",
       "      <td>1</td>\n",
       "      <td>0</td>\n",
       "      <td>1</td>\n",
       "      <td>112542.58</td>\n",
       "      <td>0</td>\n",
       "    </tr>\n",
       "    <tr>\n",
       "      <th>2</th>\n",
       "      <td>3</td>\n",
       "      <td>15619304</td>\n",
       "      <td>Onio</td>\n",
       "      <td>502</td>\n",
       "      <td>France</td>\n",
       "      <td>Female</td>\n",
       "      <td>42</td>\n",
       "      <td>8</td>\n",
       "      <td>159660.80</td>\n",
       "      <td>3</td>\n",
       "      <td>1</td>\n",
       "      <td>0</td>\n",
       "      <td>113931.57</td>\n",
       "      <td>1</td>\n",
       "    </tr>\n",
       "    <tr>\n",
       "      <th>3</th>\n",
       "      <td>4</td>\n",
       "      <td>15701354</td>\n",
       "      <td>Boni</td>\n",
       "      <td>699</td>\n",
       "      <td>France</td>\n",
       "      <td>Female</td>\n",
       "      <td>39</td>\n",
       "      <td>1</td>\n",
       "      <td>0.00</td>\n",
       "      <td>2</td>\n",
       "      <td>0</td>\n",
       "      <td>0</td>\n",
       "      <td>93826.63</td>\n",
       "      <td>0</td>\n",
       "    </tr>\n",
       "    <tr>\n",
       "      <th>4</th>\n",
       "      <td>5</td>\n",
       "      <td>15737888</td>\n",
       "      <td>Mitchell</td>\n",
       "      <td>850</td>\n",
       "      <td>Spain</td>\n",
       "      <td>Female</td>\n",
       "      <td>43</td>\n",
       "      <td>2</td>\n",
       "      <td>125510.82</td>\n",
       "      <td>1</td>\n",
       "      <td>1</td>\n",
       "      <td>1</td>\n",
       "      <td>79084.10</td>\n",
       "      <td>0</td>\n",
       "    </tr>\n",
       "  </tbody>\n",
       "</table>\n",
       "</div>"
      ],
      "text/plain": [
       "   RowNumber  CustomerId   Surname  CreditScore Geography  Gender  Age  \\\n",
       "0          1    15634602  Hargrave          619    France  Female   42   \n",
       "1          2    15647311      Hill          608     Spain  Female   41   \n",
       "2          3    15619304      Onio          502    France  Female   42   \n",
       "3          4    15701354      Boni          699    France  Female   39   \n",
       "4          5    15737888  Mitchell          850     Spain  Female   43   \n",
       "\n",
       "   Tenure    Balance  NumOfProducts  HasCrCard  IsActiveMember  \\\n",
       "0       2       0.00              1          1               1   \n",
       "1       1   83807.86              1          0               1   \n",
       "2       8  159660.80              3          1               0   \n",
       "3       1       0.00              2          0               0   \n",
       "4       2  125510.82              1          1               1   \n",
       "\n",
       "   EstimatedSalary  Exited  \n",
       "0        101348.88       1  \n",
       "1        112542.58       0  \n",
       "2        113931.57       1  \n",
       "3         93826.63       0  \n",
       "4         79084.10       0  "
      ]
     },
     "execution_count": 3,
     "metadata": {},
     "output_type": "execute_result"
    }
   ],
   "source": [
    "df.head()"
   ]
  },
  {
   "cell_type": "markdown",
   "id": "440df5db",
   "metadata": {},
   "source": [
    "# Checking Null"
   ]
  },
  {
   "cell_type": "code",
   "execution_count": 4,
   "id": "f1215cba",
   "metadata": {},
   "outputs": [
    {
     "data": {
      "text/plain": [
       "RowNumber          0\n",
       "CustomerId         0\n",
       "Surname            0\n",
       "CreditScore        0\n",
       "Geography          0\n",
       "Gender             0\n",
       "Age                0\n",
       "Tenure             0\n",
       "Balance            0\n",
       "NumOfProducts      0\n",
       "HasCrCard          0\n",
       "IsActiveMember     0\n",
       "EstimatedSalary    0\n",
       "Exited             0\n",
       "dtype: int64"
      ]
     },
     "execution_count": 4,
     "metadata": {},
     "output_type": "execute_result"
    }
   ],
   "source": [
    "df.isnull().sum()"
   ]
  },
  {
   "cell_type": "code",
   "execution_count": 5,
   "id": "8c3b2880",
   "metadata": {},
   "outputs": [
    {
     "name": "stdout",
     "output_type": "stream",
     "text": [
      "<class 'pandas.core.frame.DataFrame'>\n",
      "RangeIndex: 10000 entries, 0 to 9999\n",
      "Data columns (total 14 columns):\n",
      " #   Column           Non-Null Count  Dtype  \n",
      "---  ------           --------------  -----  \n",
      " 0   RowNumber        10000 non-null  int64  \n",
      " 1   CustomerId       10000 non-null  int64  \n",
      " 2   Surname          10000 non-null  object \n",
      " 3   CreditScore      10000 non-null  int64  \n",
      " 4   Geography        10000 non-null  object \n",
      " 5   Gender           10000 non-null  object \n",
      " 6   Age              10000 non-null  int64  \n",
      " 7   Tenure           10000 non-null  int64  \n",
      " 8   Balance          10000 non-null  float64\n",
      " 9   NumOfProducts    10000 non-null  int64  \n",
      " 10  HasCrCard        10000 non-null  int64  \n",
      " 11  IsActiveMember   10000 non-null  int64  \n",
      " 12  EstimatedSalary  10000 non-null  float64\n",
      " 13  Exited           10000 non-null  int64  \n",
      "dtypes: float64(2), int64(9), object(3)\n",
      "memory usage: 1.1+ MB\n"
     ]
    }
   ],
   "source": [
    "df.info()"
   ]
  },
  {
   "cell_type": "markdown",
   "id": "f663f029",
   "metadata": {},
   "source": [
    "# Descriptive Stats"
   ]
  },
  {
   "cell_type": "code",
   "execution_count": 6,
   "id": "6f00ebe1",
   "metadata": {},
   "outputs": [
    {
     "data": {
      "text/html": [
       "<div>\n",
       "<style scoped>\n",
       "    .dataframe tbody tr th:only-of-type {\n",
       "        vertical-align: middle;\n",
       "    }\n",
       "\n",
       "    .dataframe tbody tr th {\n",
       "        vertical-align: top;\n",
       "    }\n",
       "\n",
       "    .dataframe thead th {\n",
       "        text-align: right;\n",
       "    }\n",
       "</style>\n",
       "<table border=\"1\" class=\"dataframe\">\n",
       "  <thead>\n",
       "    <tr style=\"text-align: right;\">\n",
       "      <th></th>\n",
       "      <th>RowNumber</th>\n",
       "      <th>CustomerId</th>\n",
       "      <th>CreditScore</th>\n",
       "      <th>Age</th>\n",
       "      <th>Tenure</th>\n",
       "      <th>Balance</th>\n",
       "      <th>NumOfProducts</th>\n",
       "      <th>HasCrCard</th>\n",
       "      <th>IsActiveMember</th>\n",
       "      <th>EstimatedSalary</th>\n",
       "      <th>Exited</th>\n",
       "    </tr>\n",
       "  </thead>\n",
       "  <tbody>\n",
       "    <tr>\n",
       "      <th>count</th>\n",
       "      <td>10000.00000</td>\n",
       "      <td>1.000000e+04</td>\n",
       "      <td>10000.000000</td>\n",
       "      <td>10000.000000</td>\n",
       "      <td>10000.000000</td>\n",
       "      <td>10000.000000</td>\n",
       "      <td>10000.000000</td>\n",
       "      <td>10000.00000</td>\n",
       "      <td>10000.000000</td>\n",
       "      <td>10000.000000</td>\n",
       "      <td>10000.000000</td>\n",
       "    </tr>\n",
       "    <tr>\n",
       "      <th>mean</th>\n",
       "      <td>5000.50000</td>\n",
       "      <td>1.569094e+07</td>\n",
       "      <td>650.528800</td>\n",
       "      <td>38.921800</td>\n",
       "      <td>5.012800</td>\n",
       "      <td>76485.889288</td>\n",
       "      <td>1.530200</td>\n",
       "      <td>0.70550</td>\n",
       "      <td>0.515100</td>\n",
       "      <td>100090.239881</td>\n",
       "      <td>0.203700</td>\n",
       "    </tr>\n",
       "    <tr>\n",
       "      <th>std</th>\n",
       "      <td>2886.89568</td>\n",
       "      <td>7.193619e+04</td>\n",
       "      <td>96.653299</td>\n",
       "      <td>10.487806</td>\n",
       "      <td>2.892174</td>\n",
       "      <td>62397.405202</td>\n",
       "      <td>0.581654</td>\n",
       "      <td>0.45584</td>\n",
       "      <td>0.499797</td>\n",
       "      <td>57510.492818</td>\n",
       "      <td>0.402769</td>\n",
       "    </tr>\n",
       "    <tr>\n",
       "      <th>min</th>\n",
       "      <td>1.00000</td>\n",
       "      <td>1.556570e+07</td>\n",
       "      <td>350.000000</td>\n",
       "      <td>18.000000</td>\n",
       "      <td>0.000000</td>\n",
       "      <td>0.000000</td>\n",
       "      <td>1.000000</td>\n",
       "      <td>0.00000</td>\n",
       "      <td>0.000000</td>\n",
       "      <td>11.580000</td>\n",
       "      <td>0.000000</td>\n",
       "    </tr>\n",
       "    <tr>\n",
       "      <th>25%</th>\n",
       "      <td>2500.75000</td>\n",
       "      <td>1.562853e+07</td>\n",
       "      <td>584.000000</td>\n",
       "      <td>32.000000</td>\n",
       "      <td>3.000000</td>\n",
       "      <td>0.000000</td>\n",
       "      <td>1.000000</td>\n",
       "      <td>0.00000</td>\n",
       "      <td>0.000000</td>\n",
       "      <td>51002.110000</td>\n",
       "      <td>0.000000</td>\n",
       "    </tr>\n",
       "    <tr>\n",
       "      <th>50%</th>\n",
       "      <td>5000.50000</td>\n",
       "      <td>1.569074e+07</td>\n",
       "      <td>652.000000</td>\n",
       "      <td>37.000000</td>\n",
       "      <td>5.000000</td>\n",
       "      <td>97198.540000</td>\n",
       "      <td>1.000000</td>\n",
       "      <td>1.00000</td>\n",
       "      <td>1.000000</td>\n",
       "      <td>100193.915000</td>\n",
       "      <td>0.000000</td>\n",
       "    </tr>\n",
       "    <tr>\n",
       "      <th>75%</th>\n",
       "      <td>7500.25000</td>\n",
       "      <td>1.575323e+07</td>\n",
       "      <td>718.000000</td>\n",
       "      <td>44.000000</td>\n",
       "      <td>7.000000</td>\n",
       "      <td>127644.240000</td>\n",
       "      <td>2.000000</td>\n",
       "      <td>1.00000</td>\n",
       "      <td>1.000000</td>\n",
       "      <td>149388.247500</td>\n",
       "      <td>0.000000</td>\n",
       "    </tr>\n",
       "    <tr>\n",
       "      <th>max</th>\n",
       "      <td>10000.00000</td>\n",
       "      <td>1.581569e+07</td>\n",
       "      <td>850.000000</td>\n",
       "      <td>92.000000</td>\n",
       "      <td>10.000000</td>\n",
       "      <td>250898.090000</td>\n",
       "      <td>4.000000</td>\n",
       "      <td>1.00000</td>\n",
       "      <td>1.000000</td>\n",
       "      <td>199992.480000</td>\n",
       "      <td>1.000000</td>\n",
       "    </tr>\n",
       "  </tbody>\n",
       "</table>\n",
       "</div>"
      ],
      "text/plain": [
       "         RowNumber    CustomerId   CreditScore           Age        Tenure  \\\n",
       "count  10000.00000  1.000000e+04  10000.000000  10000.000000  10000.000000   \n",
       "mean    5000.50000  1.569094e+07    650.528800     38.921800      5.012800   \n",
       "std     2886.89568  7.193619e+04     96.653299     10.487806      2.892174   \n",
       "min        1.00000  1.556570e+07    350.000000     18.000000      0.000000   \n",
       "25%     2500.75000  1.562853e+07    584.000000     32.000000      3.000000   \n",
       "50%     5000.50000  1.569074e+07    652.000000     37.000000      5.000000   \n",
       "75%     7500.25000  1.575323e+07    718.000000     44.000000      7.000000   \n",
       "max    10000.00000  1.581569e+07    850.000000     92.000000     10.000000   \n",
       "\n",
       "             Balance  NumOfProducts    HasCrCard  IsActiveMember  \\\n",
       "count   10000.000000   10000.000000  10000.00000    10000.000000   \n",
       "mean    76485.889288       1.530200      0.70550        0.515100   \n",
       "std     62397.405202       0.581654      0.45584        0.499797   \n",
       "min         0.000000       1.000000      0.00000        0.000000   \n",
       "25%         0.000000       1.000000      0.00000        0.000000   \n",
       "50%     97198.540000       1.000000      1.00000        1.000000   \n",
       "75%    127644.240000       2.000000      1.00000        1.000000   \n",
       "max    250898.090000       4.000000      1.00000        1.000000   \n",
       "\n",
       "       EstimatedSalary        Exited  \n",
       "count     10000.000000  10000.000000  \n",
       "mean     100090.239881      0.203700  \n",
       "std       57510.492818      0.402769  \n",
       "min          11.580000      0.000000  \n",
       "25%       51002.110000      0.000000  \n",
       "50%      100193.915000      0.000000  \n",
       "75%      149388.247500      0.000000  \n",
       "max      199992.480000      1.000000  "
      ]
     },
     "execution_count": 6,
     "metadata": {},
     "output_type": "execute_result"
    }
   ],
   "source": [
    "df.describe()"
   ]
  },
  {
   "cell_type": "markdown",
   "id": "04a0b8d6",
   "metadata": {},
   "source": [
    "# Visualization"
   ]
  },
  {
   "cell_type": "code",
   "execution_count": 7,
   "id": "34c706d6",
   "metadata": {},
   "outputs": [
    {
     "data": {
      "image/png": "[encoded data removed]",
      "text/plain": [
       "<Figure size 720x720 with 1 Axes>"
      ]
     },
     "metadata": {},
     "output_type": "display_data"
    }
   ],
   "source": [
    "exited = df[df['Exited']==1]['CustomerId'].count()\n",
    "noExited = df[df['Exited']==0]['CustomerId'].count()\n",
    "\n",
    "plt.subplots(figsize=(10, 10))\n",
    "plt.title(\"Proportion of Customer Churn\", size = 10)\n",
    "plt.pie([exited, noExited],labels = ['Exited', 'Not Exited'], autopct='%.2f%%', explode = (0 , 0.05))\n",
    "plt.legend(labels = ['Exited ' + str(exited), 'Not Exited ' + str(noExited)], loc = \"upper right\")\n",
    "plt.show()"
   ]
  },
  {
   "cell_type": "code",
   "execution_count": 8,
   "id": "c70937cd",
   "metadata": {},
   "outputs": [
    {
     "name": "stderr",
     "output_type": "stream",
     "text": [
      "D:\\Anaconda\\lib\\site-packages\\seaborn\\_decorators.py:36: FutureWarning: Pass the following variable as a keyword arg: x. From version 0.12, the only valid positional argument will be `data`, and passing other arguments without an explicit keyword will result in an error or misinterpretation.\n",
      "  warnings.warn(\n",
      "D:\\Anaconda\\lib\\site-packages\\seaborn\\_decorators.py:36: FutureWarning: Pass the following variable as a keyword arg: x. From version 0.12, the only valid positional argument will be `data`, and passing other arguments without an explicit keyword will result in an error or misinterpretation.\n",
      "  warnings.warn(\n",
      "D:\\Anaconda\\lib\\site-packages\\seaborn\\_decorators.py:36: FutureWarning: Pass the following variable as a keyword arg: x. From version 0.12, the only valid positional argument will be `data`, and passing other arguments without an explicit keyword will result in an error or misinterpretation.\n",
      "  warnings.warn(\n",
      "D:\\Anaconda\\lib\\site-packages\\seaborn\\_decorators.py:36: FutureWarning: Pass the following variable as a keyword arg: x. From version 0.12, the only valid positional argument will be `data`, and passing other arguments without an explicit keyword will result in an error or misinterpretation.\n",
      "  warnings.warn(\n",
      "D:\\Anaconda\\lib\\site-packages\\seaborn\\_decorators.py:36: FutureWarning: Pass the following variable as a keyword arg: x. From version 0.12, the only valid positional argument will be `data`, and passing other arguments without an explicit keyword will result in an error or misinterpretation.\n",
      "  warnings.warn(\n",
      "D:\\Anaconda\\lib\\site-packages\\seaborn\\_decorators.py:36: FutureWarning: Pass the following variable as a keyword arg: x. From version 0.12, the only valid positional argument will be `data`, and passing other arguments without an explicit keyword will result in an error or misinterpretation.\n",
      "  warnings.warn(\n"
     ]
    },
    {
     "data": {
      "text/plain": [
       "<AxesSubplot:xlabel='IsActiveMember', ylabel='count'>"
      ]
     },
     "execution_count": 8,
     "metadata": {},
     "output_type": "execute_result"
    },
    {
     "data": {
      "image/png": "[encoded data removed]",
      "text/plain": [
       "<Figure size 1080x1080 with 6 Axes>"
      ]
     },
     "metadata": {
      "needs_background": "light"
     },
     "output_type": "display_data"
    }
   ],
   "source": [
    "fig, axarr = plt.subplots(2, 3, figsize=(15, 15))\n",
    "\n",
    "sns.countplot('Geography', hue = 'Exited',data = df, ax = axarr[0][0])\n",
    "sns.countplot('Gender', hue = 'Exited',data = df, ax = axarr[0][1])\n",
    "sns.countplot('Tenure', hue = 'Exited',data = df, ax = axarr[0][2])\n",
    "sns.countplot('NumOfProducts', hue = 'Exited',data = df, ax = axarr[1][0])\n",
    "sns.countplot('HasCrCard', hue = 'Exited',data = df, ax = axarr[1][1])\n",
    "sns.countplot('IsActiveMember', hue = 'Exited',data = df, ax = axarr[1][2])"
   ]
  },
  {
   "cell_type": "code",
   "execution_count": 9,
   "id": "572e75cb",
   "metadata": {},
   "outputs": [
    {
     "data": {
      "image/png": "[encoded data removed]",
      "text/plain": [
       "<Figure size 432x288 with 1 Axes>"
      ]
     },
     "metadata": {
      "needs_background": "light"
     },
     "output_type": "display_data"
    },
    {
     "data": {
      "image/png": "[encoded data removed]",
      "text/plain": [
       "<Figure size 432x288 with 1 Axes>"
      ]
     },
     "metadata": {
      "needs_background": "light"
     },
     "output_type": "display_data"
    }
   ],
   "source": [
    "sns.countplot(y=df['Geography'], data=df, order = df['Geography'].value_counts().index)\n",
    "plt.show()\n",
    "\n",
    "sns.countplot(y=df['Gender'], data=df, order = df['Gender'].value_counts().index)\n",
    "plt.show()"
   ]
  },
  {
   "cell_type": "code",
   "execution_count": 10,
   "id": "0d3a97b8",
   "metadata": {},
   "outputs": [
    {
     "data": {
      "text/plain": [
       "<AxesSubplot:>"
      ]
     },
     "execution_count": 10,
     "metadata": {},
     "output_type": "execute_result"
    },
    {
     "data": {
      "image/png": "[encoded data removed]",
      "text/plain": [
       "<Figure size 504x504 with 2 Axes>"
      ]
     },
     "metadata": {
      "needs_background": "light"
     },
     "output_type": "display_data"
    }
   ],
   "source": [
    "plt.figure(figsize=(7,7))\n",
    "sns.heatmap(df.corr(), cmap=\"YlGnBu\")"
   ]
  },
  {
   "cell_type": "markdown",
   "id": "2349a023",
   "metadata": {},
   "source": [
    "# Data cleansing"
   ]
  },
  {
   "cell_type": "code",
   "execution_count": 11,
   "id": "45a8c1d3",
   "metadata": {},
   "outputs": [],
   "source": [
    "df.drop(\"CustomerId\", axis=1, inplace=True)\n",
    "df.drop(\"Surname\", axis=1, inplace=True)\n",
    "df.drop(\"HasCrCard\", axis=1, inplace=True)\n",
    "df.drop(\"RowNumber\", axis=1, inplace = True)\n",
    "# Take all Row, Take all column until -1\n",
    "X = df.iloc[:,:-1].values\n",
    "# Take all Row, Take only -1 column\n",
    "y = df.iloc[:,-1].values"
   ]
  },
  {
   "cell_type": "markdown",
   "id": "4c1e20ea",
   "metadata": {},
   "source": [
    "# Encoding Categorical Data"
   ]
  },
  {
   "cell_type": "code",
   "execution_count": 12,
   "id": "311e06e8",
   "metadata": {},
   "outputs": [],
   "source": [
    "from sklearn.preprocessing import LabelEncoder\n",
    "from sklearn.preprocessing import OneHotEncoder\n",
    "from sklearn.compose import ColumnTransformer"
   ]
  },
  {
   "cell_type": "code",
   "execution_count": 13,
   "id": "de8c1731",
   "metadata": {},
   "outputs": [
    {
     "name": "stdout",
     "output_type": "stream",
     "text": [
      "[[619 'France' 'Female' ... 1 1 101348.88]\n",
      " [608 'Spain' 'Female' ... 1 1 112542.58]\n",
      " [502 'France' 'Female' ... 3 0 113931.57]\n",
      " ...\n",
      " [709 'France' 'Female' ... 1 1 42085.58]\n",
      " [772 'Germany' 'Male' ... 2 0 92888.52]\n",
      " [792 'France' 'Female' ... 1 0 38190.78]]\n"
     ]
    }
   ],
   "source": [
    "print(X)"
   ]
  },
  {
   "cell_type": "code",
   "execution_count": 14,
   "id": "3a7a16b7",
   "metadata": {},
   "outputs": [
    {
     "name": "stdout",
     "output_type": "stream",
     "text": [
      "[1 0 1 ... 1 1 0]\n"
     ]
    }
   ],
   "source": [
    "print(y)"
   ]
  },
  {
   "cell_type": "markdown",
   "id": "ad5edcaa",
   "metadata": {},
   "source": [
    "# Label Encoding the Gender"
   ]
  },
  {
   "cell_type": "code",
   "execution_count": 15,
   "id": "d76115a9",
   "metadata": {},
   "outputs": [
    {
     "name": "stdout",
     "output_type": "stream",
     "text": [
      "[[619 'France' 0 ... 1 1 101348.88]\n",
      " [608 'Spain' 0 ... 1 1 112542.58]\n",
      " [502 'France' 0 ... 3 0 113931.57]\n",
      " ...\n",
      " [709 'France' 0 ... 1 1 42085.58]\n",
      " [772 'Germany' 1 ... 2 0 92888.52]\n",
      " [792 'France' 0 ... 1 0 38190.78]]\n"
     ]
    }
   ],
   "source": [
    "le = LabelEncoder()\n",
    "X[:, 2] = le.fit_transform(X[:, 2])\n",
    "print(X)"
   ]
  },
  {
   "cell_type": "markdown",
   "id": "d2f18274",
   "metadata": {},
   "source": [
    "# One Hot Encoder for Country"
   ]
  },
  {
   "cell_type": "code",
   "execution_count": 16,
   "id": "633c13ee",
   "metadata": {},
   "outputs": [
    {
     "name": "stdout",
     "output_type": "stream",
     "text": [
      "[[1.0 0.0 0.0 ... 1 1 101348.88]\n",
      " [0.0 0.0 1.0 ... 1 1 112542.58]\n",
      " [1.0 0.0 0.0 ... 3 0 113931.57]\n",
      " ...\n",
      " [1.0 0.0 0.0 ... 1 1 42085.58]\n",
      " [0.0 1.0 0.0 ... 2 0 92888.52]\n",
      " [1.0 0.0 0.0 ... 1 0 38190.78]]\n"
     ]
    }
   ],
   "source": [
    "ct = ColumnTransformer(transformers=[('encoder', OneHotEncoder(), [1])], remainder='passthrough')\n",
    "X = np.array(ct.fit_transform(X))\n",
    "print(X)"
   ]
  },
  {
   "cell_type": "markdown",
   "id": "6d5c214e",
   "metadata": {},
   "source": [
    "# Spliting Dataset"
   ]
  },
  {
   "cell_type": "code",
   "execution_count": 17,
   "id": "f92d620a",
   "metadata": {},
   "outputs": [],
   "source": [
    "from sklearn.model_selection import train_test_split\n",
    "X_train, X_test, y_train, y_test = train_test_split(X,y,test_size = 0.2, random_state = 0)"
   ]
  },
  {
   "cell_type": "markdown",
   "id": "77e4ad35",
   "metadata": {},
   "source": [
    "# Feature Scalling"
   ]
  },
  {
   "cell_type": "code",
   "execution_count": 18,
   "id": "8f9cfbe9",
   "metadata": {},
   "outputs": [],
   "source": [
    "from sklearn.preprocessing import StandardScaler\n",
    "sc = StandardScaler()\n",
    "X_train = sc.fit_transform(X_train)\n",
    "X_test = sc.transform(X_test)"
   ]
  },
  {
   "cell_type": "markdown",
   "id": "672fe482",
   "metadata": {},
   "source": [
    "# Importing TensorFlow and Initializing ANN"
   ]
  },
  {
   "cell_type": "code",
   "execution_count": 19,
   "id": "c5a8ba32",
   "metadata": {},
   "outputs": [],
   "source": [
    "import tensorflow as tf"
   ]
  },
  {
   "cell_type": "code",
   "execution_count": 20,
   "id": "a29d0b59",
   "metadata": {},
   "outputs": [],
   "source": [
    "ann = tf.keras.models.Sequential()"
   ]
  },
  {
   "cell_type": "code",
   "execution_count": 21,
   "id": "742d649d",
   "metadata": {},
   "outputs": [],
   "source": [
    "ann.add(tf.keras.layers.Dense(units=6, activation='relu'))"
   ]
  },
  {
   "cell_type": "code",
   "execution_count": 22,
   "id": "5bd75016",
   "metadata": {},
   "outputs": [],
   "source": [
    "ann.add(tf.keras.layers.Dense(units=6, activation='relu'))"
   ]
  },
  {
   "cell_type": "code",
   "execution_count": 23,
   "id": "20ad96f3",
   "metadata": {},
   "outputs": [],
   "source": [
    "ann.add(tf.keras.layers.Dense(units=1, activation='sigmoid'))"
   ]
  },
  {
   "cell_type": "markdown",
   "id": "c1b0f49d",
   "metadata": {},
   "source": [
    "# Compile the Model"
   ]
  },
  {
   "cell_type": "code",
   "execution_count": 24,
   "id": "cc1687d1",
   "metadata": {},
   "outputs": [],
   "source": [
    "ann.compile(optimizer = 'adam', loss = 'binary_crossentropy', metrics = ['accuracy'])"
   ]
  },
  {
   "cell_type": "markdown",
   "id": "5115b306",
   "metadata": {},
   "source": [
    "# Training the Model"
   ]
  },
  {
   "cell_type": "code",
   "execution_count": 25,
   "id": "d319bd23",
   "metadata": {},
   "outputs": [
    {
     "name": "stdout",
     "output_type": "stream",
     "text": [
      "Epoch 1/200\n",
      "250/250 [==============================] - 0s 892us/step - loss: 0.5850 - accuracy: 0.7412\n",
      "Epoch 2/200\n",
      "250/250 [==============================] - 0s 844us/step - loss: 0.4861 - accuracy: 0.7960\n",
      "Epoch 3/200\n",
      "250/250 [==============================] - 0s 836us/step - loss: 0.4455 - accuracy: 0.8018\n",
      "Epoch 4/200\n",
      "250/250 [==============================] - 0s 940us/step - loss: 0.4306 - accuracy: 0.8081\n",
      "Epoch 5/200\n",
      "250/250 [==============================] - 0s 1ms/step - loss: 0.4250 - accuracy: 0.8109\n",
      "Epoch 6/200\n",
      "250/250 [==============================] - 0s 1ms/step - loss: 0.4204 - accuracy: 0.8130\n",
      "Epoch 7/200\n",
      "250/250 [==============================] - 0s 972us/step - loss: 0.4142 - accuracy: 0.8158\n",
      "Epoch 8/200\n",
      "250/250 [==============================] - 0s 676us/step - loss: 0.4047 - accuracy: 0.8192\n",
      "Epoch 9/200\n",
      "250/250 [==============================] - 0s 608us/step - loss: 0.3910 - accuracy: 0.8279\n",
      "Epoch 10/200\n",
      "250/250 [==============================] - 0s 760us/step - loss: 0.3757 - accuracy: 0.8391\n",
      "Epoch 11/200\n",
      "250/250 [==============================] - 0s 772us/step - loss: 0.3637 - accuracy: 0.8479\n",
      "Epoch 12/200\n",
      "250/250 [==============================] - 0s 680us/step - loss: 0.3570 - accuracy: 0.8525\n",
      "Epoch 13/200\n",
      "250/250 [==============================] - 0s 736us/step - loss: 0.3533 - accuracy: 0.8555\n",
      "Epoch 14/200\n",
      "250/250 [==============================] - 0s 668us/step - loss: 0.3506 - accuracy: 0.8570\n",
      "Epoch 15/200\n",
      "250/250 [==============================] - 0s 724us/step - loss: 0.3488 - accuracy: 0.8571\n",
      "Epoch 16/200\n",
      "250/250 [==============================] - 0s 752us/step - loss: 0.3476 - accuracy: 0.8571\n",
      "Epoch 17/200\n",
      "250/250 [==============================] - 0s 664us/step - loss: 0.3470 - accuracy: 0.8564\n",
      "Epoch 18/200\n",
      "250/250 [==============================] - 0s 756us/step - loss: 0.3458 - accuracy: 0.8586\n",
      "Epoch 19/200\n",
      "250/250 [==============================] - 0s 764us/step - loss: 0.3451 - accuracy: 0.8593\n",
      "Epoch 20/200\n",
      "250/250 [==============================] - 0s 856us/step - loss: 0.3443 - accuracy: 0.8575\n",
      "Epoch 21/200\n",
      "250/250 [==============================] - 0s 724us/step - loss: 0.3440 - accuracy: 0.8585\n",
      "Epoch 22/200\n",
      "250/250 [==============================] - 0s 736us/step - loss: 0.3434 - accuracy: 0.8583\n",
      "Epoch 23/200\n",
      "250/250 [==============================] - 0s 840us/step - loss: 0.3430 - accuracy: 0.8590\n",
      "Epoch 24/200\n",
      "250/250 [==============================] - 0s 820us/step - loss: 0.3426 - accuracy: 0.8596\n",
      "Epoch 25/200\n",
      "250/250 [==============================] - 0s 736us/step - loss: 0.3423 - accuracy: 0.8585\n",
      "Epoch 26/200\n",
      "250/250 [==============================] - 0s 704us/step - loss: 0.3415 - accuracy: 0.8579\n",
      "Epoch 27/200\n",
      "250/250 [==============================] - 0s 804us/step - loss: 0.3415 - accuracy: 0.8620\n",
      "Epoch 28/200\n",
      "250/250 [==============================] - 0s 732us/step - loss: 0.3414 - accuracy: 0.8594\n",
      "Epoch 29/200\n",
      "250/250 [==============================] - 0s 696us/step - loss: 0.3411 - accuracy: 0.8605\n",
      "Epoch 30/200\n",
      "250/250 [==============================] - 0s 708us/step - loss: 0.3409 - accuracy: 0.8589\n",
      "Epoch 31/200\n",
      "250/250 [==============================] - 0s 800us/step - loss: 0.3409 - accuracy: 0.8586\n",
      "Epoch 32/200\n",
      "250/250 [==============================] - 0s 740us/step - loss: 0.3405 - accuracy: 0.8587\n",
      "Epoch 33/200\n",
      "250/250 [==============================] - 0s 780us/step - loss: 0.3405 - accuracy: 0.8595\n",
      "Epoch 34/200\n",
      "250/250 [==============================] - 0s 716us/step - loss: 0.3399 - accuracy: 0.8606\n",
      "Epoch 35/200\n",
      "250/250 [==============================] - 0s 718us/step - loss: 0.3400 - accuracy: 0.86050s - loss: 0.3279 - accuracy: \n",
      "Epoch 36/200\n",
      "250/250 [==============================] - 0s 780us/step - loss: 0.3400 - accuracy: 0.85970s - loss: 0.3454 - accuracy: 0.\n",
      "Epoch 37/200\n",
      "250/250 [==============================] - 0s 716us/step - loss: 0.3393 - accuracy: 0.8600\n",
      "Epoch 38/200\n",
      "250/250 [==============================] - 0s 724us/step - loss: 0.3393 - accuracy: 0.8600\n",
      "Epoch 39/200\n",
      "250/250 [==============================] - 0s 708us/step - loss: 0.3387 - accuracy: 0.8604\n",
      "Epoch 40/200\n",
      "250/250 [==============================] - 0s 696us/step - loss: 0.3389 - accuracy: 0.8630\n",
      "Epoch 41/200\n",
      "250/250 [==============================] - 0s 816us/step - loss: 0.3387 - accuracy: 0.8614\n",
      "Epoch 42/200\n",
      "250/250 [==============================] - 0s 804us/step - loss: 0.3386 - accuracy: 0.8600\n",
      "Epoch 43/200\n",
      "250/250 [==============================] - 0s 1ms/step - loss: 0.3383 - accuracy: 0.8608\n",
      "Epoch 44/200\n",
      "250/250 [==============================] - 0s 716us/step - loss: 0.3382 - accuracy: 0.8609\n",
      "Epoch 45/200\n",
      "250/250 [==============================] - 0s 716us/step - loss: 0.3380 - accuracy: 0.8627\n",
      "Epoch 46/200\n",
      "250/250 [==============================] - 0s 728us/step - loss: 0.3374 - accuracy: 0.8621\n",
      "Epoch 47/200\n",
      "250/250 [==============================] - 0s 780us/step - loss: 0.3378 - accuracy: 0.8620\n",
      "Epoch 48/200\n",
      "250/250 [==============================] - 0s 724us/step - loss: 0.3372 - accuracy: 0.8622\n",
      "Epoch 49/200\n",
      "250/250 [==============================] - 0s 756us/step - loss: 0.3372 - accuracy: 0.8621\n",
      "Epoch 50/200\n",
      "250/250 [==============================] - 0s 804us/step - loss: 0.3373 - accuracy: 0.8629\n",
      "Epoch 51/200\n",
      "250/250 [==============================] - 0s 732us/step - loss: 0.3368 - accuracy: 0.8625\n",
      "Epoch 52/200\n",
      "250/250 [==============================] - 0s 716us/step - loss: 0.3366 - accuracy: 0.8636\n",
      "Epoch 53/200\n",
      "250/250 [==============================] - 0s 832us/step - loss: 0.3364 - accuracy: 0.8629\n",
      "Epoch 54/200\n",
      "250/250 [==============================] - 0s 912us/step - loss: 0.3359 - accuracy: 0.8621\n",
      "Epoch 55/200\n",
      "250/250 [==============================] - 0s 744us/step - loss: 0.3356 - accuracy: 0.8637\n",
      "Epoch 56/200\n",
      "250/250 [==============================] - 0s 740us/step - loss: 0.3352 - accuracy: 0.8631\n",
      "Epoch 57/200\n",
      "250/250 [==============================] - 0s 976us/step - loss: 0.3349 - accuracy: 0.8643\n",
      "Epoch 58/200\n",
      "250/250 [==============================] - 0s 612us/step - loss: 0.3346 - accuracy: 0.8643\n",
      "Epoch 59/200\n",
      "250/250 [==============================] - 0s 812us/step - loss: 0.3346 - accuracy: 0.8637\n",
      "Epoch 60/200\n",
      "250/250 [==============================] - 0s 804us/step - loss: 0.3344 - accuracy: 0.8644\n",
      "Epoch 61/200\n",
      "250/250 [==============================] - 0s 780us/step - loss: 0.3340 - accuracy: 0.8634\n",
      "Epoch 62/200\n",
      "250/250 [==============================] - 0s 1ms/step - loss: 0.3344 - accuracy: 0.8629\n",
      "Epoch 63/200\n",
      "250/250 [==============================] - 0s 652us/step - loss: 0.3344 - accuracy: 0.8635\n",
      "Epoch 64/200\n",
      "250/250 [==============================] - 0s 728us/step - loss: 0.3337 - accuracy: 0.8631\n",
      "Epoch 65/200\n",
      "250/250 [==============================] - 0s 700us/step - loss: 0.3339 - accuracy: 0.8639\n",
      "Epoch 66/200\n",
      "250/250 [==============================] - 0s 720us/step - loss: 0.3337 - accuracy: 0.8618\n",
      "Epoch 67/200\n",
      "250/250 [==============================] - 0s 1ms/step - loss: 0.3333 - accuracy: 0.8637\n",
      "Epoch 68/200\n",
      "250/250 [==============================] - 0s 660us/step - loss: 0.3336 - accuracy: 0.8624\n",
      "Epoch 69/200\n",
      "250/250 [==============================] - 0s 752us/step - loss: 0.3330 - accuracy: 0.8637\n",
      "Epoch 70/200\n",
      "250/250 [==============================] - 0s 684us/step - loss: 0.3333 - accuracy: 0.8636\n",
      "Epoch 71/200\n",
      "250/250 [==============================] - 0s 1ms/step - loss: 0.3336 - accuracy: 0.8629\n",
      "Epoch 72/200\n",
      "250/250 [==============================] - 0s 844us/step - loss: 0.3331 - accuracy: 0.8635\n",
      "Epoch 73/200\n",
      "250/250 [==============================] - 0s 712us/step - loss: 0.3330 - accuracy: 0.8634\n",
      "Epoch 74/200\n",
      "250/250 [==============================] - 0s 632us/step - loss: 0.3330 - accuracy: 0.8626\n",
      "Epoch 75/200\n",
      "250/250 [==============================] - 0s 812us/step - loss: 0.3328 - accuracy: 0.8637\n",
      "Epoch 76/200\n",
      "250/250 [==============================] - 0s 748us/step - loss: 0.3328 - accuracy: 0.8641\n",
      "Epoch 77/200\n",
      "250/250 [==============================] - 0s 700us/step - loss: 0.3326 - accuracy: 0.8631\n",
      "Epoch 78/200\n",
      "250/250 [==============================] - 0s 712us/step - loss: 0.3328 - accuracy: 0.8630\n",
      "Epoch 79/200\n"
     ]
    },
    {
     "name": "stdout",
     "output_type": "stream",
     "text": [
      "250/250 [==============================] - 0s 736us/step - loss: 0.3326 - accuracy: 0.8622\n",
      "Epoch 80/200\n",
      "250/250 [==============================] - 0s 684us/step - loss: 0.3328 - accuracy: 0.8625\n",
      "Epoch 81/200\n",
      "250/250 [==============================] - 0s 744us/step - loss: 0.3326 - accuracy: 0.8631\n",
      "Epoch 82/200\n",
      "250/250 [==============================] - 0s 764us/step - loss: 0.3323 - accuracy: 0.8639\n",
      "Epoch 83/200\n",
      "250/250 [==============================] - 0s 756us/step - loss: 0.3321 - accuracy: 0.86300s - loss: 0.3299 - accuracy: 0.86\n",
      "Epoch 84/200\n",
      "250/250 [==============================] - 0s 848us/step - loss: 0.3325 - accuracy: 0.8633\n",
      "Epoch 85/200\n",
      "250/250 [==============================] - 0s 720us/step - loss: 0.3326 - accuracy: 0.8634\n",
      "Epoch 86/200\n",
      "250/250 [==============================] - 0s 720us/step - loss: 0.3325 - accuracy: 0.8651\n",
      "Epoch 87/200\n",
      "250/250 [==============================] - 0s 784us/step - loss: 0.3321 - accuracy: 0.8636\n",
      "Epoch 88/200\n",
      "250/250 [==============================] - 0s 744us/step - loss: 0.3323 - accuracy: 0.8631\n",
      "Epoch 89/200\n",
      "250/250 [==============================] - 0s 792us/step - loss: 0.3325 - accuracy: 0.8626\n",
      "Epoch 90/200\n",
      "250/250 [==============================] - 0s 726us/step - loss: 0.3323 - accuracy: 0.8636\n",
      "Epoch 91/200\n",
      "250/250 [==============================] - 0s 776us/step - loss: 0.3318 - accuracy: 0.8629\n",
      "Epoch 92/200\n",
      "250/250 [==============================] - 0s 745us/step - loss: 0.3318 - accuracy: 0.8620\n",
      "Epoch 93/200\n",
      "250/250 [==============================] - 0s 752us/step - loss: 0.3318 - accuracy: 0.8641\n",
      "Epoch 94/200\n",
      "250/250 [==============================] - 0s 752us/step - loss: 0.3318 - accuracy: 0.8637\n",
      "Epoch 95/200\n",
      "250/250 [==============================] - 0s 777us/step - loss: 0.3315 - accuracy: 0.8634\n",
      "Epoch 96/200\n",
      "250/250 [==============================] - 0s 877us/step - loss: 0.3319 - accuracy: 0.86400s - loss: 0.3607 - accuracy: 0.84 - ETA: 0s - loss: 0.3445 - accuracy: \n",
      "Epoch 97/200\n",
      "250/250 [==============================] - 0s 740us/step - loss: 0.3318 - accuracy: 0.8618\n",
      "Epoch 98/200\n",
      "250/250 [==============================] - 0s 812us/step - loss: 0.3318 - accuracy: 0.8624\n",
      "Epoch 99/200\n",
      "250/250 [==============================] - 0s 868us/step - loss: 0.3317 - accuracy: 0.8626\n",
      "Epoch 100/200\n",
      "250/250 [==============================] - 0s 764us/step - loss: 0.3317 - accuracy: 0.8639\n",
      "Epoch 101/200\n",
      "250/250 [==============================] - 0s 824us/step - loss: 0.3320 - accuracy: 0.8643\n",
      "Epoch 102/200\n",
      "250/250 [==============================] - 0s 740us/step - loss: 0.3317 - accuracy: 0.8646\n",
      "Epoch 103/200\n",
      "250/250 [==============================] - 0s 668us/step - loss: 0.3316 - accuracy: 0.8636\n",
      "Epoch 104/200\n",
      "250/250 [==============================] - 0s 760us/step - loss: 0.3315 - accuracy: 0.8640\n",
      "Epoch 105/200\n",
      "250/250 [==============================] - 0s 800us/step - loss: 0.3313 - accuracy: 0.8625\n",
      "Epoch 106/200\n",
      "250/250 [==============================] - 0s 768us/step - loss: 0.3319 - accuracy: 0.8626\n",
      "Epoch 107/200\n",
      "250/250 [==============================] - 0s 754us/step - loss: 0.3314 - accuracy: 0.8639\n",
      "Epoch 108/200\n",
      "250/250 [==============================] - 0s 704us/step - loss: 0.3318 - accuracy: 0.8635\n",
      "Epoch 109/200\n",
      "250/250 [==============================] - 0s 716us/step - loss: 0.3312 - accuracy: 0.8619\n",
      "Epoch 110/200\n",
      "250/250 [==============================] - 0s 828us/step - loss: 0.3318 - accuracy: 0.8639\n",
      "Epoch 111/200\n",
      "250/250 [==============================] - 0s 860us/step - loss: 0.3315 - accuracy: 0.8631\n",
      "Epoch 112/200\n",
      "250/250 [==============================] - 0s 820us/step - loss: 0.3314 - accuracy: 0.8627\n",
      "Epoch 113/200\n",
      "250/250 [==============================] - 0s 664us/step - loss: 0.3317 - accuracy: 0.8635\n",
      "Epoch 114/200\n",
      "250/250 [==============================] - 0s 756us/step - loss: 0.3314 - accuracy: 0.8633\n",
      "Epoch 115/200\n",
      "250/250 [==============================] - 0s 796us/step - loss: 0.3313 - accuracy: 0.8640\n",
      "Epoch 116/200\n",
      "250/250 [==============================] - 0s 1ms/step - loss: 0.3313 - accuracy: 0.8630\n",
      "Epoch 117/200\n",
      "250/250 [==============================] - 0s 664us/step - loss: 0.3315 - accuracy: 0.8627\n",
      "Epoch 118/200\n",
      "250/250 [==============================] - 0s 664us/step - loss: 0.3311 - accuracy: 0.8633\n",
      "Epoch 119/200\n",
      "250/250 [==============================] - 0s 660us/step - loss: 0.3315 - accuracy: 0.8633\n",
      "Epoch 120/200\n",
      "250/250 [==============================] - 0s 688us/step - loss: 0.3310 - accuracy: 0.8635\n",
      "Epoch 121/200\n",
      "250/250 [==============================] - 0s 720us/step - loss: 0.3310 - accuracy: 0.8637\n",
      "Epoch 122/200\n",
      "250/250 [==============================] - 0s 768us/step - loss: 0.3307 - accuracy: 0.8635\n",
      "Epoch 123/200\n",
      "250/250 [==============================] - 0s 688us/step - loss: 0.3315 - accuracy: 0.8630\n",
      "Epoch 124/200\n",
      "250/250 [==============================] - 0s 752us/step - loss: 0.3309 - accuracy: 0.8640\n",
      "Epoch 125/200\n",
      "250/250 [==============================] - 0s 808us/step - loss: 0.3313 - accuracy: 0.8625\n",
      "Epoch 126/200\n",
      "250/250 [==============================] - 0s 892us/step - loss: 0.3309 - accuracy: 0.8629\n",
      "Epoch 127/200\n",
      "250/250 [==============================] - 0s 756us/step - loss: 0.3312 - accuracy: 0.8641\n",
      "Epoch 128/200\n",
      "250/250 [==============================] - 0s 732us/step - loss: 0.3306 - accuracy: 0.8626\n",
      "Epoch 129/200\n",
      "250/250 [==============================] - 0s 804us/step - loss: 0.3316 - accuracy: 0.8631\n",
      "Epoch 130/200\n",
      "250/250 [==============================] - 0s 804us/step - loss: 0.3312 - accuracy: 0.8639\n",
      "Epoch 131/200\n",
      "250/250 [==============================] - 0s 764us/step - loss: 0.3309 - accuracy: 0.8643\n",
      "Epoch 132/200\n",
      "250/250 [==============================] - 0s 772us/step - loss: 0.3310 - accuracy: 0.8631\n",
      "Epoch 133/200\n",
      "250/250 [==============================] - 0s 816us/step - loss: 0.3310 - accuracy: 0.8629\n",
      "Epoch 134/200\n",
      "250/250 [==============================] - 0s 784us/step - loss: 0.3303 - accuracy: 0.8643\n",
      "Epoch 135/200\n",
      "250/250 [==============================] - 0s 752us/step - loss: 0.3311 - accuracy: 0.8635\n",
      "Epoch 136/200\n",
      "250/250 [==============================] - 0s 820us/step - loss: 0.3310 - accuracy: 0.8635\n",
      "Epoch 137/200\n",
      "250/250 [==============================] - 0s 740us/step - loss: 0.3310 - accuracy: 0.8631\n",
      "Epoch 138/200\n",
      "250/250 [==============================] - 0s 756us/step - loss: 0.3306 - accuracy: 0.8631\n",
      "Epoch 139/200\n",
      "250/250 [==============================] - 0s 772us/step - loss: 0.3311 - accuracy: 0.8639\n",
      "Epoch 140/200\n",
      "250/250 [==============================] - 0s 752us/step - loss: 0.3308 - accuracy: 0.8633\n",
      "Epoch 141/200\n",
      "250/250 [==============================] - 0s 748us/step - loss: 0.3307 - accuracy: 0.8644\n",
      "Epoch 142/200\n",
      "250/250 [==============================] - 0s 824us/step - loss: 0.3308 - accuracy: 0.8633\n",
      "Epoch 143/200\n",
      "250/250 [==============================] - 0s 824us/step - loss: 0.3312 - accuracy: 0.8635\n",
      "Epoch 144/200\n",
      "250/250 [==============================] - 0s 824us/step - loss: 0.3309 - accuracy: 0.8641\n",
      "Epoch 145/200\n",
      "250/250 [==============================] - 0s 856us/step - loss: 0.3308 - accuracy: 0.86270s - loss: 0.3213 - accuracy\n",
      "Epoch 146/200\n",
      "250/250 [==============================] - 0s 712us/step - loss: 0.3307 - accuracy: 0.8627\n",
      "Epoch 147/200\n",
      "250/250 [==============================] - 0s 744us/step - loss: 0.3304 - accuracy: 0.8633\n",
      "Epoch 148/200\n",
      "250/250 [==============================] - 0s 752us/step - loss: 0.3307 - accuracy: 0.8639\n",
      "Epoch 149/200\n",
      "250/250 [==============================] - 0s 816us/step - loss: 0.3304 - accuracy: 0.8630\n",
      "Epoch 150/200\n",
      "250/250 [==============================] - 0s 768us/step - loss: 0.3309 - accuracy: 0.8635\n",
      "Epoch 151/200\n",
      "250/250 [==============================] - 0s 796us/step - loss: 0.3307 - accuracy: 0.8650\n",
      "Epoch 152/200\n",
      "250/250 [==============================] - 0s 880us/step - loss: 0.3306 - accuracy: 0.8633\n",
      "Epoch 153/200\n",
      "250/250 [==============================] - 0s 784us/step - loss: 0.3302 - accuracy: 0.8631\n",
      "Epoch 154/200\n",
      "250/250 [==============================] - 0s 880us/step - loss: 0.3308 - accuracy: 0.86330s - loss: 0.3342 - accuracy: \n",
      "Epoch 155/200\n"
     ]
    },
    {
     "name": "stdout",
     "output_type": "stream",
     "text": [
      "250/250 [==============================] - 0s 728us/step - loss: 0.3305 - accuracy: 0.8631\n",
      "Epoch 156/200\n",
      "250/250 [==============================] - 0s 832us/step - loss: 0.3306 - accuracy: 0.8630\n",
      "Epoch 157/200\n",
      "250/250 [==============================] - 0s 728us/step - loss: 0.3306 - accuracy: 0.8635\n",
      "Epoch 158/200\n",
      "250/250 [==============================] - 0s 928us/step - loss: 0.3309 - accuracy: 0.8634\n",
      "Epoch 159/200\n",
      "250/250 [==============================] - 0s 708us/step - loss: 0.3307 - accuracy: 0.8622\n",
      "Epoch 160/200\n",
      "250/250 [==============================] - 0s 656us/step - loss: 0.3306 - accuracy: 0.8615\n",
      "Epoch 161/200\n",
      "250/250 [==============================] - 0s 716us/step - loss: 0.3307 - accuracy: 0.8627\n",
      "Epoch 162/200\n",
      "250/250 [==============================] - 0s 700us/step - loss: 0.3304 - accuracy: 0.8627\n",
      "Epoch 163/200\n",
      "250/250 [==============================] - 0s 752us/step - loss: 0.3312 - accuracy: 0.8633\n",
      "Epoch 164/200\n",
      "250/250 [==============================] - 0s 736us/step - loss: 0.3308 - accuracy: 0.8644\n",
      "Epoch 165/200\n",
      "250/250 [==============================] - 0s 676us/step - loss: 0.3308 - accuracy: 0.8614\n",
      "Epoch 166/200\n",
      "250/250 [==============================] - 0s 792us/step - loss: 0.3308 - accuracy: 0.8641\n",
      "Epoch 167/200\n",
      "250/250 [==============================] - 0s 764us/step - loss: 0.3304 - accuracy: 0.8636\n",
      "Epoch 168/200\n",
      "250/250 [==============================] - 0s 768us/step - loss: 0.3301 - accuracy: 0.8641\n",
      "Epoch 169/200\n",
      "250/250 [==============================] - 0s 768us/step - loss: 0.3304 - accuracy: 0.8626\n",
      "Epoch 170/200\n",
      "250/250 [==============================] - 0s 768us/step - loss: 0.3304 - accuracy: 0.8624\n",
      "Epoch 171/200\n",
      "250/250 [==============================] - 0s 760us/step - loss: 0.3305 - accuracy: 0.8627\n",
      "Epoch 172/200\n",
      "250/250 [==============================] - 0s 724us/step - loss: 0.3305 - accuracy: 0.8635\n",
      "Epoch 173/200\n",
      "250/250 [==============================] - 0s 872us/step - loss: 0.3304 - accuracy: 0.8641\n",
      "Epoch 174/200\n",
      "250/250 [==============================] - 0s 680us/step - loss: 0.3308 - accuracy: 0.8639\n",
      "Epoch 175/200\n",
      "250/250 [==============================] - 0s 772us/step - loss: 0.3305 - accuracy: 0.8636\n",
      "Epoch 176/200\n",
      "250/250 [==============================] - 0s 672us/step - loss: 0.3307 - accuracy: 0.8634\n",
      "Epoch 177/200\n",
      "250/250 [==============================] - 0s 732us/step - loss: 0.3304 - accuracy: 0.8633\n",
      "Epoch 178/200\n",
      "250/250 [==============================] - 0s 836us/step - loss: 0.3301 - accuracy: 0.8627\n",
      "Epoch 179/200\n",
      "250/250 [==============================] - 0s 668us/step - loss: 0.3307 - accuracy: 0.8627\n",
      "Epoch 180/200\n",
      "250/250 [==============================] - 0s 760us/step - loss: 0.3304 - accuracy: 0.8640\n",
      "Epoch 181/200\n",
      "250/250 [==============================] - 0s 756us/step - loss: 0.3304 - accuracy: 0.8627\n",
      "Epoch 182/200\n",
      "250/250 [==============================] - 0s 732us/step - loss: 0.3303 - accuracy: 0.8630\n",
      "Epoch 183/200\n",
      "250/250 [==============================] - 0s 820us/step - loss: 0.3302 - accuracy: 0.8633\n",
      "Epoch 184/200\n",
      "250/250 [==============================] - 0s 780us/step - loss: 0.3305 - accuracy: 0.8633\n",
      "Epoch 185/200\n",
      "250/250 [==============================] - 0s 800us/step - loss: 0.3302 - accuracy: 0.8629\n",
      "Epoch 186/200\n",
      "250/250 [==============================] - 0s 664us/step - loss: 0.3303 - accuracy: 0.8634\n",
      "Epoch 187/200\n",
      "250/250 [==============================] - 0s 780us/step - loss: 0.3301 - accuracy: 0.8634\n",
      "Epoch 188/200\n",
      "250/250 [==============================] - 0s 804us/step - loss: 0.3301 - accuracy: 0.8637\n",
      "Epoch 189/200\n",
      "250/250 [==============================] - 0s 784us/step - loss: 0.3300 - accuracy: 0.8629\n",
      "Epoch 190/200\n",
      "250/250 [==============================] - 0s 764us/step - loss: 0.3301 - accuracy: 0.8626\n",
      "Epoch 191/200\n",
      "250/250 [==============================] - 0s 768us/step - loss: 0.3298 - accuracy: 0.8637\n",
      "Epoch 192/200\n",
      "250/250 [==============================] - 0s 760us/step - loss: 0.3305 - accuracy: 0.8630\n",
      "Epoch 193/200\n",
      "250/250 [==============================] - 0s 824us/step - loss: 0.3299 - accuracy: 0.8631\n",
      "Epoch 194/200\n",
      "250/250 [==============================] - 0s 800us/step - loss: 0.3301 - accuracy: 0.8641\n",
      "Epoch 195/200\n",
      "250/250 [==============================] - 0s 780us/step - loss: 0.3301 - accuracy: 0.8630\n",
      "Epoch 196/200\n",
      "250/250 [==============================] - 0s 762us/step - loss: 0.3300 - accuracy: 0.8637\n",
      "Epoch 197/200\n",
      "250/250 [==============================] - 0s 840us/step - loss: 0.3300 - accuracy: 0.86400s - loss: 0.3330 - accuracy\n",
      "Epoch 198/200\n",
      "250/250 [==============================] - 0s 744us/step - loss: 0.3298 - accuracy: 0.8655\n",
      "Epoch 199/200\n",
      "250/250 [==============================] - 0s 752us/step - loss: 0.3300 - accuracy: 0.8644\n",
      "Epoch 200/200\n",
      "250/250 [==============================] - 0s 736us/step - loss: 0.3300 - accuracy: 0.8621\n"
     ]
    },
    {
     "data": {
      "text/plain": [
       "<tensorflow.python.keras.callbacks.History at 0x2802f60ca60>"
      ]
     },
     "execution_count": 25,
     "metadata": {},
     "output_type": "execute_result"
    }
   ],
   "source": [
    "ann.fit(X_train, y_train, batch_size=32,epochs=200)"
   ]
  },
  {
   "cell_type": "markdown",
   "id": "b936d8f4",
   "metadata": {},
   "source": [
    "# Confusion Matrix"
   ]
  },
  {
   "cell_type": "code",
   "execution_count": 26,
   "id": "3f1ad193",
   "metadata": {},
   "outputs": [],
   "source": [
    "y_pred = ann.predict(X_test)\n",
    "y_pred = (y_pred > 0.5)\n",
    "#print(np.concatenate((y_pred.reshape(len(y_pred),1), y_test.reshape(len(y_test),1)),1))"
   ]
  },
  {
   "cell_type": "code",
   "execution_count": 27,
   "id": "a215245c",
   "metadata": {},
   "outputs": [
    {
     "name": "stdout",
     "output_type": "stream",
     "text": [
      "[[1512   83]\n",
      " [ 196  209]]\n"
     ]
    },
    {
     "data": {
      "text/plain": [
       "0.8605"
      ]
     },
     "execution_count": 27,
     "metadata": {},
     "output_type": "execute_result"
    }
   ],
   "source": [
    "from sklearn.metrics import confusion_matrix, accuracy_score\n",
    "cm = confusion_matrix(y_test, y_pred)\n",
    "print(cm)\n",
    "accuracy_score(y_test, y_pred)"
   ]
  },
  {
   "cell_type": "code",
   "execution_count": null,
   "id": "7936eb77",
   "metadata": {},
   "outputs": [],
   "source": []
  }
 ],
 "metadata": {
  "kernelspec": {
   "display_name": "Python 3 (ipykernel)",
   "language": "python",
   "name": "python3"
  },
  "language_info": {
   "codemirror_mode": {
    "name": "ipython",
    "version": 3
   },
   "file_extension": ".py",
   "mimetype": "text/x-python",
   "name": "python",
   "nbconvert_exporter": "python",
   "pygments_lexer": "ipython3",
   "version": "3.8.5"
  }
 },
 "nbformat": 4,
 "nbformat_minor": 5
}
